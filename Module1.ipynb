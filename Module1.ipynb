{
 "cells": [
  {
   "cell_type": "code",
   "execution_count": 6,
   "metadata": {},
   "outputs": [
    {
     "name": "stdout",
     "output_type": "stream",
     "text": [
      "<class 'complex'>\n"
     ]
    }
   ],
   "source": [
    "print(type(2+3j))"
   ]
  },
  {
   "cell_type": "code",
   "execution_count": 8,
   "metadata": {},
   "outputs": [
    {
     "name": "stdout",
     "output_type": "stream",
     "text": [
      "{'Hello', 1, 2, 4.0, (2+4j)}\n",
      "<class 'set'>\n"
     ]
    }
   ],
   "source": [
    "s={\"Hello\",1,2,2+4j,4.0}#Unordered collection of unique objects\n",
    "print(s)\n",
    "print(type(s))"
   ]
  },
  {
   "cell_type": "code",
   "execution_count": 9,
   "metadata": {},
   "outputs": [],
   "source": [
    "#single line comment\n",
    "\"\"\"\n",
    "Multi\n",
    "Line\n",
    "Comment\n",
    "\"\"\""
   ]
  },
  {
   "cell_type": "code",
   "execution_count": 12,
   "metadata": {},
   "outputs": [
    {
     "name": "stdout",
     "output_type": "stream",
     "text": [
      "1\n"
     ]
    }
   ],
   "source": [
    "print(int(True))"
   ]
  },
  {
   "cell_type": "code",
   "execution_count": 15,
   "metadata": {},
   "outputs": [
    {
     "name": "stdout",
     "output_type": "stream",
     "text": [
      "<class 'bool'>\n"
     ]
    }
   ],
   "source": [
    "a=True\n",
    "print(type(a))"
   ]
  },
  {
   "cell_type": "code",
   "execution_count": 33,
   "metadata": {},
   "outputs": [
    {
     "name": "stdout",
     "output_type": "stream",
     "text": [
      "0.1962156075714282\n",
      "2\n"
     ]
    }
   ],
   "source": [
    "import random as r\n",
    "\n",
    "print(r.random())\n",
    "num=r.randint(1,2)\n",
    "print(num)"
   ]
  },
  {
   "cell_type": "code",
   "execution_count": 36,
   "metadata": {},
   "outputs": [
    {
     "name": "stdout",
     "output_type": "stream",
     "text": [
      "arg1= arg1\n",
      "arg2= arg2\n",
      "arg1= arg2\n",
      "arg2= arg1\n"
     ]
    }
   ],
   "source": [
    "def fun(arg1,arg2):\n",
    "    print(\"arg1=\",arg1)\n",
    "    print(\"arg2=\",arg2)\n",
    "\n",
    "fun(arg1=\"arg1\",arg2=\"arg2\")\n",
    "fun(arg2=\"arg1\",arg1=\"arg2\")"
   ]
  },
  {
   "cell_type": "code",
   "execution_count": 38,
   "metadata": {},
   "outputs": [
    {
     "ename": "NameError",
     "evalue": "name 'eggs' is not defined",
     "output_type": "error",
     "traceback": [
      "\u001b[1;31m---------------------------------------------------------------------------\u001b[0m",
      "\u001b[1;31mNameError\u001b[0m                                 Traceback (most recent call last)",
      "Cell \u001b[1;32mIn[38], line 5\u001b[0m\n\u001b[0;32m      2\u001b[0m \u001b[39mdef\u001b[39;00m \u001b[39mfun\u001b[39m():\n\u001b[0;32m      3\u001b[0m     eggs\u001b[39m=\u001b[39m\u001b[39m20\u001b[39m\n\u001b[1;32m----> 5\u001b[0m \u001b[39mprint\u001b[39m(eggs)\n",
      "\u001b[1;31mNameError\u001b[0m: name 'eggs' is not defined"
     ]
    }
   ],
   "source": [
    "# Local variables cannot be accessed using in global scope \n",
    "def fun():\n",
    "    eggs=20\n",
    "\n",
    "print(eggs)\n"
   ]
  },
  {
   "cell_type": "code",
   "execution_count": 39,
   "metadata": {},
   "outputs": [
    {
     "name": "stdout",
     "output_type": "stream",
     "text": [
      "yo\n"
     ]
    },
    {
     "ename": "NameError",
     "evalue": "name 'eggs' is not defined",
     "output_type": "error",
     "traceback": [
      "\u001b[1;31m---------------------------------------------------------------------------\u001b[0m",
      "\u001b[1;31mNameError\u001b[0m                                 Traceback (most recent call last)",
      "Cell \u001b[1;32mIn[39], line 11\u001b[0m\n\u001b[0;32m      8\u001b[0m     \u001b[39mprint\u001b[39m(eggs)\n\u001b[0;32m     10\u001b[0m fun1()\n\u001b[1;32m---> 11\u001b[0m fun2()\n",
      "Cell \u001b[1;32mIn[39], line 8\u001b[0m, in \u001b[0;36mfun2\u001b[1;34m()\u001b[0m\n\u001b[0;32m      7\u001b[0m \u001b[39mdef\u001b[39;00m \u001b[39mfun2\u001b[39m():\n\u001b[1;32m----> 8\u001b[0m     \u001b[39mprint\u001b[39m(eggs)\n",
      "\u001b[1;31mNameError\u001b[0m: name 'eggs' is not defined"
     ]
    }
   ],
   "source": [
    "# Local variables cannot accesse variables from other local scope\n",
    "\n",
    "def fun1():\n",
    "    eggs=\"yo\"\n",
    "    print(eggs)\n",
    "\n",
    "def fun2():\n",
    "    print(eggs)\n",
    "\n",
    "fun1()\n",
    "fun2()"
   ]
  },
  {
   "cell_type": "code",
   "execution_count": 42,
   "metadata": {},
   "outputs": [
    {
     "name": "stdout",
     "output_type": "stream",
     "text": [
      "eggs\n",
      "eggs\n"
     ]
    }
   ],
   "source": [
    "# Local variables can accesse global scope\n",
    "\n",
    "def fun():\n",
    "    print(eggs)\n",
    "\n",
    "\n",
    "fun()\n",
    "eggs=\"eggs\"\n",
    "fun()"
   ]
  },
  {
   "cell_type": "code",
   "execution_count": 44,
   "metadata": {},
   "outputs": [
    {
     "name": "stdout",
     "output_type": "stream",
     "text": [
      "Local\n"
     ]
    }
   ],
   "source": [
    "# Local and Global Variabes with same name..Local is given preference\n",
    "\n",
    "def fun():\n",
    "    eggs=\"Local\"\n",
    "    print(eggs)\n",
    "\n",
    "eggs=\"Global\"\n",
    "\n",
    "fun()"
   ]
  },
  {
   "cell_type": "code",
   "execution_count": 45,
   "metadata": {},
   "outputs": [
    {
     "name": "stdout",
     "output_type": "stream",
     "text": [
      "1 20\n",
      "2 30\n",
      "3 30\n"
     ]
    }
   ],
   "source": [
    "# Using global variable to accesse global value\n",
    "\n",
    "def fun():\n",
    "    global eggs\n",
    "    print(\"1\",eggs)\n",
    "    eggs=30\n",
    "    print(\"2\",eggs)\n",
    "\n",
    "eggs=20\n",
    "fun()\n",
    "print(\"3\",eggs)\n"
   ]
  },
  {
   "cell_type": "code",
   "execution_count": 47,
   "metadata": {},
   "outputs": [
    {
     "name": "stdout",
     "output_type": "stream",
     "text": [
      "21.0\n"
     ]
    },
    {
     "ename": "ZeroDivisionError",
     "evalue": "division by zero",
     "output_type": "error",
     "traceback": [
      "\u001b[1;31m---------------------------------------------------------------------------\u001b[0m",
      "\u001b[1;31mZeroDivisionError\u001b[0m                         Traceback (most recent call last)",
      "Cell \u001b[1;32mIn[47], line 7\u001b[0m\n\u001b[0;32m      4\u001b[0m     \u001b[39mreturn\u001b[39;00m \u001b[39m42\u001b[39m\u001b[39m/\u001b[39marg \n\u001b[0;32m      6\u001b[0m \u001b[39mprint\u001b[39m(divideby(\u001b[39m2\u001b[39m))\n\u001b[1;32m----> 7\u001b[0m \u001b[39mprint\u001b[39m(divideby(\u001b[39m0\u001b[39;49m))\n",
      "Cell \u001b[1;32mIn[47], line 4\u001b[0m, in \u001b[0;36mdivideby\u001b[1;34m(arg)\u001b[0m\n\u001b[0;32m      3\u001b[0m \u001b[39mdef\u001b[39;00m \u001b[39mdivideby\u001b[39m(arg):\n\u001b[1;32m----> 4\u001b[0m     \u001b[39mreturn\u001b[39;00m \u001b[39m42\u001b[39;49m\u001b[39m/\u001b[39;49marg\n",
      "\u001b[1;31mZeroDivisionError\u001b[0m: division by zero"
     ]
    }
   ],
   "source": [
    "# Exception Handling \n",
    "\n",
    "def divideby(arg):\n",
    "    return 42/arg \n",
    "\n",
    "print(divideby(2))\n",
    "print(divideby(0))"
   ]
  },
  {
   "cell_type": "code",
   "execution_count": 50,
   "metadata": {},
   "outputs": [
    {
     "name": "stdout",
     "output_type": "stream",
     "text": [
      "21.0\n",
      "Invalid Arguement\n",
      "None\n",
      "2.0\n"
     ]
    }
   ],
   "source": [
    "# Exception Handling \n",
    "\n",
    "def divideby(arg):\n",
    "    try:\n",
    "        return 42/arg \n",
    "    except ZeroDivisionError:\n",
    "        print(\"Invalid Arguement\")\n",
    "\n",
    "print(divideby(2))\n",
    "print(divideby(0))\n",
    "print(divideby(21))\n"
   ]
  }
 ],
 "metadata": {
  "kernelspec": {
   "display_name": "Python 3",
   "language": "python",
   "name": "python3"
  },
  "language_info": {
   "codemirror_mode": {
    "name": "ipython",
    "version": 3
   },
   "file_extension": ".py",
   "mimetype": "text/x-python",
   "name": "python",
   "nbconvert_exporter": "python",
   "pygments_lexer": "ipython3",
   "version": "3.10.5"
  },
  "orig_nbformat": 4
 },
 "nbformat": 4,
 "nbformat_minor": 2
}
