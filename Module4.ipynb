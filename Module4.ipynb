{
 "cells": [
  {
   "cell_type": "code",
   "execution_count": 8,
   "metadata": {},
   "outputs": [
    {
     "name": "stdout",
     "output_type": "stream",
     "text": [
      "(4,5)\n"
     ]
    }
   ],
   "source": [
    "class Point:\n",
    "    def __init__(self,x,y):\n",
    "        self.x=x\n",
    "        self.y=y\n",
    "    def __str__(self):\n",
    "        return f\"({self.x},{self.y})\"\n",
    "\n",
    "p1=Point(4,5)\n",
    "print(p1)"
   ]
  },
  {
   "cell_type": "code",
   "execution_count": 13,
   "metadata": {},
   "outputs": [
    {
     "name": "stdout",
     "output_type": "stream",
     "text": [
      "(15.0,15.0)\n",
      "(60.0,60.0)\n"
     ]
    }
   ],
   "source": [
    "class Rectangle:\n",
    "    def __init__(self,width,height,corner):\n",
    "        self.height=height\n",
    "        self.width=width \n",
    "        self.corner=corner\n",
    "    def center(self):\n",
    "        x=self.corner.x+self.width/2\n",
    "        y=self.corner.y+self.height/2\n",
    "        print(f\"({x},{y})\")\n",
    "\n",
    "p2=Point(10,10)\n",
    "r1=Rectangle(10,10,p2)\n",
    "r1.center()\n",
    "\n",
    "# Objects are mutable\n",
    "r1.width=100\n",
    "r1.height=100\n",
    "r1.center()"
   ]
  },
  {
   "cell_type": "code",
   "execution_count": 16,
   "metadata": {},
   "outputs": [
    {
     "name": "stdout",
     "output_type": "stream",
     "text": [
      "False\n",
      "False\n",
      "True\n",
      "True\n",
      "---------------------\n",
      "False\n",
      "False\n",
      "True\n",
      "True\n",
      "---------------------\n",
      "True\n",
      "True\n",
      "True\n",
      "True\n",
      "---------------------\n"
     ]
    }
   ],
   "source": [
    "# Copying \n",
    "# It is alternate to aliasing\n",
    "# == is same as \"is\" operator\n",
    "\n",
    "import copy\n",
    "p1=Point(10,10)\n",
    "p2=copy.copy(p1)\n",
    "print(p2 is p1)\n",
    "print(p2 == p1)\n",
    "print(p2.x is p1.x)\n",
    "print(p2.x == p1.x)\n",
    "print(\"---------------------\")\n",
    "\n",
    "p3=copy.deepcopy(p1)\n",
    "print(p3 is p1)\n",
    "print(p3 == p1)\n",
    "print(p1.x is p3.x)\n",
    "print(p3.x == p1.x)\n",
    "print(\"---------------------\")\n",
    "\n",
    "p4=p1\n",
    "print(p4 is p1)\n",
    "print(p4 == p1)\n",
    "print(p4.x is p1.x)\n",
    "print(p4.x == p1.x)\n",
    "print(\"---------------------\")\n"
   ]
  },
  {
   "cell_type": "code",
   "execution_count": 20,
   "metadata": {},
   "outputs": [
    {
     "name": "stdout",
     "output_type": "stream",
     "text": [
      "True\n",
      "True\n",
      "True\n",
      "No Such Attribute\n"
     ]
    }
   ],
   "source": [
    "print(hasattr(p1,'x'))\n",
    "print(hasattr(p1,'z'))\n",
    "print(isinstance(p1,Point))\n",
    "try:\n",
    "    print(p1.s)\n",
    "except AttributeError:\n",
    "    print(\"No Such Attribute\")"
   ]
  },
  {
   "cell_type": "code",
   "execution_count": 60,
   "metadata": {},
   "outputs": [],
   "source": [
    "# Time\n",
    "class Time:\n",
    "    def __init__(self,seconds=0,minutes=0,hours=0):\n",
    "        self.seconds=seconds\n",
    "        self.minutes=minutes\n",
    "        self.hours=hours\n",
    "    def print_time(self):\n",
    "        print(f\"Hours={self.hours},Minutes={self.minutes},Seconds={self.seconds}\")\n",
    "    def is_after(self,t):\n",
    "        t1_seconds=(self.hours*3600)+(self.minutes*60)+(self.seconds)\n",
    "        t_seconds=(t.hours*3600)+(t.minutes*60)+(t.seconds)\n",
    "        # print(t1_seconds,t_seconds)\n",
    "        print (t1_seconds>t_seconds)\n",
    "    def add_time(self,t):\n",
    "        hours=self.hours+t.hours\n",
    "        minutes=self.minutes+t.minutes\n",
    "        seconds=self.seconds+t.seconds\n",
    "        print(hours,minutes,seconds) \n",
    "        if(seconds>60):\n",
    "            second=seconds-60\n",
    "            minutes=minutes+1\n",
    "        if(minutes>60):\n",
    "            minutes=minutes-60\n",
    "            hours=hours+1\n",
    "        self.hours=hours\n",
    "        self.minutes=minutes\n",
    "        self.seconds=seconds\n",
    "        return self\n",
    "    def __add__(self,other):\n",
    "        if(isinstance(other,Time)):\n",
    "            return self.add_time(other)\n",
    "        else:\n",
    "            print(\"Incrementing by one\")\n",
    "            self.increment()\n",
    "    def increment(self):\n",
    "        self.seconds=self.seconds+1\n",
    "        if(self.seconds>60):\n",
    "            self.seconds=self.seconds-60\n",
    "            self.minutes=self.minutes+1\n",
    "        if(self.minutes>60):\n",
    "            self.minutes=self.minutes-60\n",
    "            self.hours=self.hours+1\n",
    "            return self\n",
    "    def time_to_int(self):\n",
    "        val=(self.hours*3600)+(self.minutes*60)+(self.seconds)\n",
    "        print(val)\n",
    "    def valid_time(self):\n",
    "        if(self.hours<0 or self.minutes<0 or self.seconds<0):\n",
    "            return False\n",
    "        if(self.hours>24 or self.minutes>60 or self.seconds>60):\n",
    "            return False \n",
    "        return True\n",
    "    def int_to_time(self,val):\n",
    "        hours=val//3600\n",
    "        val=val%3600\n",
    "        minutes=val//60\n",
    "        val=val%60\n",
    "        seconds=val\n",
    "        t=Time(seconds,minutes,hours)\n",
    "        t.print_time()\n",
    "    def __str__(self):\n",
    "        return (f\"Hours={self.hours},Minutes={self.minutes},Seconds={self.seconds}\")"
   ]
  },
  {
   "cell_type": "code",
   "execution_count": 62,
   "metadata": {},
   "outputs": [
    {
     "name": "stdout",
     "output_type": "stream",
     "text": [
      "9 45 35\n",
      "Hours=9,Minutes=45,Seconds=35\n",
      "True\n",
      "False\n",
      "Hours=9,Minutes=45,Seconds=35\n",
      "Hours=1,Minutes=0,Seconds=0\n",
      "Hours=9,Minutes=45,Seconds=35\n",
      "Hours=9,Minutes=45,Seconds=36\n"
     ]
    }
   ],
   "source": [
    "t1=Time(20,30,4)\n",
    "t2=Time(15,15,5)\n",
    "print(t1+t2)\n",
    "t1.is_after(t2)\n",
    "t2.is_after(t1)\n",
    "t1.print_time()\n",
    "t1.int_to_time(3600)\n",
    "t1.print_time()\n",
    "t1.increment()\n",
    "t1.print_time()\n",
    "# for i in range(30):\n",
    "#     t1.increment()\n",
    "#     t1.print_time()"
   ]
  },
  {
   "cell_type": "code",
   "execution_count": 49,
   "metadata": {},
   "outputs": [
    {
     "name": "stdout",
     "output_type": "stream",
     "text": [
      "3\n",
      "12\n"
     ]
    }
   ],
   "source": [
    "# Operator overloading\n",
    "\n",
    "print(1+2)\n",
    "print(\"1\"+\"2\")"
   ]
  },
  {
   "cell_type": "code",
   "execution_count": 64,
   "metadata": {},
   "outputs": [
    {
     "name": "stdout",
     "output_type": "stream",
     "text": [
      "{'Eggs': 3, 'Apple': 2, 'Spinach': 1, 'Tomato': 1}\n",
      "{'Eggs': 3, 'Apple': 2, 'Spinach': 1, 'Tomato': 1}\n"
     ]
    }
   ],
   "source": [
    "def histogram(s):\n",
    "    d={}\n",
    "    for x in s:\n",
    "        if x in d.keys():\n",
    "            d[x]=d[x]+1\n",
    "        else:\n",
    "            d[x]=1\n",
    "    print(d)\n",
    "\n",
    "l=[\"Eggs\",\"Apple\",\"Eggs\",\"Spinach\",\"Apple\",\"Eggs\",\"Tomato\"]\n",
    "t=(\"Eggs\",\"Apple\",\"Eggs\",\"Spinach\",\"Apple\",\"Eggs\",\"Tomato\")\n",
    "histogram(l)\n",
    "histogram(t)\n",
    "\n"
   ]
  },
  {
   "cell_type": "code",
   "execution_count": 69,
   "metadata": {},
   "outputs": [
    {
     "name": "stdout",
     "output_type": "stream",
     "text": [
      "John is eating\n",
      "John is purring\n"
     ]
    }
   ],
   "source": [
    "# Inheritence eexample \n",
    "\n",
    "class Animal:\n",
    "    def __init__(self,name,species):\n",
    "        self.name=name\n",
    "        self.species=species \n",
    "    def eat(self):\n",
    "        print(f\"{self.name} is eating\")\n",
    "    def sleep(self):\n",
    "        print(f\"{self.name} is sleep\")\n",
    "\n",
    "class Cat(Animal):\n",
    "    def __init__(self,name,species,breed):\n",
    "        super().__init__(name,species)\n",
    "        self.breed=breed\n",
    "    def pur(self):\n",
    "        print(f\"{self.name} is purring\")\n",
    "\n",
    "\n",
    "my_cat=Cat(\"John\",\"Cat\",\"Persian_Cat\")\n",
    "my_cat.eat()\n",
    "my_cat.pur()"
   ]
  },
  {
   "cell_type": "code",
   "execution_count": null,
   "metadata": {},
   "outputs": [],
   "source": []
  }
 ],
 "metadata": {
  "kernelspec": {
   "display_name": "Python 3",
   "language": "python",
   "name": "python3"
  },
  "language_info": {
   "codemirror_mode": {
    "name": "ipython",
    "version": 3
   },
   "file_extension": ".py",
   "mimetype": "text/x-python",
   "name": "python",
   "nbconvert_exporter": "python",
   "pygments_lexer": "ipython3",
   "version": "3.10.5"
  },
  "orig_nbformat": 4
 },
 "nbformat": 4,
 "nbformat_minor": 2
}
