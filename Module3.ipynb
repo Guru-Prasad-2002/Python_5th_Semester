{
 "cells": [
  {
   "cell_type": "code",
   "execution_count": 1,
   "metadata": {},
   "outputs": [
    {
     "name": "stdout",
     "output_type": "stream",
     "text": [
      "True\n",
      "0\n",
      "0\n"
     ]
    }
   ],
   "source": [
    "s=\"123abc\"\n",
    "print(\"123\" in s)\n",
    "print(s.find(\"123\"))\n",
    "print(s.index(\"123\"))"
   ]
  },
  {
   "cell_type": "code",
   "execution_count": 3,
   "metadata": {},
   "outputs": [],
   "source": [
    "import re"
   ]
  },
  {
   "cell_type": "code",
   "execution_count": 7,
   "metadata": {},
   "outputs": [
    {
     "name": "stdout",
     "output_type": "stream",
     "text": [
      "Phone no found : 123-456\n"
     ]
    }
   ],
   "source": [
    "string=\"Phone num 123-456\"\n",
    "pattern=re.compile(r\"\\d\\d\\d-\\d\\d\\d\")\n",
    "b=pattern.search(string)\n",
    "print(\"Phone no found : \"+b.group())\n"
   ]
  },
  {
   "cell_type": "code",
   "execution_count": 15,
   "metadata": {},
   "outputs": [
    {
     "name": "stdout",
     "output_type": "stream",
     "text": [
      "111-222-3333\n",
      "111-222-3333\n",
      "111\n",
      "222-3333\n"
     ]
    }
   ],
   "source": [
    "phone_no=\"This is my n0 111-222-3333\"\n",
    "pattern=re.compile(r\"(\\d{3})-(\\d{3}-\\d{4})\")\n",
    "ans=re.search(pattern,phone_no)\n",
    "print(ans.group())\n",
    "print(ans.group(0))\n",
    "print(ans.group(1))\n",
    "print(ans.group(2))"
   ]
  },
  {
   "cell_type": "code",
   "execution_count": 19,
   "metadata": {},
   "outputs": [
    {
     "name": "stdout",
     "output_type": "stream",
     "text": [
      "gurujissrr@gmail.com\n",
      "None\n"
     ]
    }
   ],
   "source": [
    "# email \n",
    "string=\"This is my email gurujissrr@gmail.com\"\n",
    "string1=\"This is my email gurujissrr@gmail.con\"\n",
    "pattern=re.compile(r\"[a-zA-Z0-9]+@[a-zA-Z]+\\.(com|net|org|in|edu)\")\n",
    "ans1=re.search(pattern,string)\n",
    "print(ans1.group())\n",
    "print(re.search(pattern,string1))"
   ]
  },
  {
   "cell_type": "code",
   "execution_count": 21,
   "metadata": {},
   "outputs": [
    {
     "name": "stdout",
     "output_type": "stream",
     "text": [
      "PINEAPPLE-2\n",
      "PINEAPPLE\n",
      "2\n"
     ]
    }
   ],
   "source": [
    "string=\"This is PINEAPPLE-20\"\n",
    "pattern=re.compile(r\"(\\b[A-Z]+\\b)-(\\d)\")\n",
    "ans=re.search(pattern,string)\n",
    "print(ans.group())\n",
    "print(ans.group(1))\n",
    "print(ans.group(2))\n"
   ]
  },
  {
   "cell_type": "code",
   "execution_count": 33,
   "metadata": {},
   "outputs": [
    {
     "name": "stdout",
     "output_type": "stream",
     "text": [
      "Spiderman are good\n",
      "Spiderman\n"
     ]
    }
   ],
   "source": [
    "string = \"Batman and Spiderman are good\"\n",
    "pattern = re.compile(r\"(Batman|Spiderman) are good\")\n",
    "ans = re.search(pattern, string)\n",
    "print(ans.group())\n",
    "print(ans.group(1))\n",
    "# print(ans.group(2))"
   ]
  },
  {
   "cell_type": "code",
   "execution_count": 52,
   "metadata": {},
   "outputs": [
    {
     "name": "stdout",
     "output_type": "stream",
     "text": [
      "Batwowoman\n"
     ]
    }
   ],
   "source": [
    "# ?\n",
    "string=\"Batwowoman Batman\"\n",
    "pattern=re.compile(r'Bat(wo)*man')\n",
    "ans=re.search(pattern,string)\n",
    "print(ans.group())"
   ]
  },
  {
   "cell_type": "code",
   "execution_count": 54,
   "metadata": {},
   "outputs": [
    {
     "name": "stdout",
     "output_type": "stream",
     "text": [
      "HAHAHA\n"
     ]
    }
   ],
   "source": [
    "# GREEDY\n",
    "string=\"HAHAHAHA\"\n",
    "pattern=re.compile(r'(HA){2,3}')\n",
    "ans=re.search(pattern,string)\n",
    "print(ans.group())"
   ]
  },
  {
   "cell_type": "code",
   "execution_count": 57,
   "metadata": {},
   "outputs": [
    {
     "name": "stdout",
     "output_type": "stream",
     "text": [
      "HAHA\n"
     ]
    }
   ],
   "source": [
    "# NON GREEDY\n",
    "string=\"HAHAHAHA\"\n",
    "pattern=re.compile(r'(HA){2,3}?')\n",
    "ans=re.search(pattern,string)\n",
    "print(ans.group())"
   ]
  },
  {
   "cell_type": "code",
   "execution_count": 58,
   "metadata": {},
   "outputs": [
    {
     "name": "stdout",
     "output_type": "stream",
     "text": [
      "['123-456-7891', '987-789-5628']\n"
     ]
    }
   ],
   "source": [
    "# find all without groups \n",
    "string=\"No1:123-456-7891 No2:987-789-5628\"\n",
    "pattern=re.compile(r'\\d\\d\\d-\\d\\d\\d-\\d\\d\\d\\d')\n",
    "ans=re.findall(pattern,string)\n",
    "print(ans)"
   ]
  },
  {
   "cell_type": "code",
   "execution_count": 60,
   "metadata": {},
   "outputs": [
    {
     "name": "stdout",
     "output_type": "stream",
     "text": [
      "[('123', '456-7891'), ('987', '789-5628')]\n"
     ]
    }
   ],
   "source": [
    "# find all with groups \n",
    "string=\"No1:123-456-7891 No2:987-789-5628\"\n",
    "pattern=re.compile(r'(\\d{3})-(\\d{3}-\\d{4})')\n",
    "ans=re.findall(pattern,string)\n",
    "print(ans)"
   ]
  },
  {
   "cell_type": "code",
   "execution_count": 62,
   "metadata": {},
   "outputs": [
    {
     "name": "stdout",
     "output_type": "stream",
     "text": [
      "['u', 'u', 'a', 'a']\n"
     ]
    }
   ],
   "source": [
    "# Match all vowels \n",
    "string=\"Guru Prasad\"\n",
    "pattern=re.compile(r\"[aeiou]\")\n",
    "ans=re.findall(pattern,string)\n",
    "print(ans)\n"
   ]
  },
  {
   "cell_type": "code",
   "execution_count": 64,
   "metadata": {},
   "outputs": [
    {
     "name": "stdout",
     "output_type": "stream",
     "text": [
      "['G', 'r', 'P', 'r', 's', 'd']\n"
     ]
    }
   ],
   "source": [
    "# Match all consonants \n",
    "string=\"Guru Prasad\"\n",
    "pattern=re.compile(r\"[^aeiou ]\")\n",
    "ans=re.findall(pattern,string)\n",
    "print(ans)"
   ]
  },
  {
   "cell_type": "code",
   "execution_count": 67,
   "metadata": {},
   "outputs": [
    {
     "name": "stdout",
     "output_type": "stream",
     "text": [
      "<re.Match object; span=(0, 5), match='aeioz'>\n"
     ]
    }
   ],
   "source": [
    "# WAP that reads a string from user with five characters which starts\n",
    "# with ‘a’ and ends with ‘z’. Print successful if pattern matches the\n",
    "# string.\n",
    "\n",
    "string=input()\n",
    "pattern=re.compile(r\"a.{3}z\")\n",
    "ans=re.match(pattern,string)\n",
    "print(ans)"
   ]
  },
  {
   "cell_type": "code",
   "execution_count": 69,
   "metadata": {},
   "outputs": [
    {
     "name": "stdout",
     "output_type": "stream",
     "text": [
      "Hello\n",
      "World\n"
     ]
    }
   ],
   "source": [
    "# Carter and dollar sign\n",
    "string=\"Hello World\"\n",
    "pattern1=re.compile(r'^Hello')\n",
    "pattern2=re.compile(r'World$')\n",
    "pattern1=re.compile(r'^Hello')\n",
    "ans1=re.search(pattern1,string)\n",
    "ans2=re.search(pattern2,string)\n",
    "print(ans1.group())\n",
    "print(ans2.group())"
   ]
  },
  {
   "cell_type": "code",
   "execution_count": 71,
   "metadata": {},
   "outputs": [
    {
     "name": "stdout",
     "output_type": "stream",
     "text": [
      "<Hello>\n"
     ]
    }
   ],
   "source": [
    "# GREEDY\n",
    "string=\"<Hello> ypooo\"\n",
    "pattern=re.compile(r\"<.*>\")\n",
    "ans=re.search(pattern,string)\n",
    "print(ans.group())"
   ]
  },
  {
   "cell_type": "code",
   "execution_count": 72,
   "metadata": {},
   "outputs": [
    {
     "name": "stdout",
     "output_type": "stream",
     "text": [
      "<Hello>\n"
     ]
    }
   ],
   "source": [
    "# GREEDY\n",
    "string=\"<Hello> ypooo\"\n",
    "pattern=re.compile(r\"<.*?>\")\n",
    "ans=re.search(pattern,string)\n",
    "print(ans.group())"
   ]
  },
  {
   "cell_type": "code",
   "execution_count": 73,
   "metadata": {},
   "outputs": [
    {
     "name": "stdout",
     "output_type": "stream",
     "text": [
      "Line1 \n"
     ]
    }
   ],
   "source": [
    "string=\"Line1 \\n Line2 \\n Line2\"\n",
    "pattern=re.compile(r\".*\")\n",
    "ans=re.search(pattern,string)\n",
    "print(ans.group())"
   ]
  },
  {
   "cell_type": "code",
   "execution_count": 74,
   "metadata": {},
   "outputs": [
    {
     "name": "stdout",
     "output_type": "stream",
     "text": [
      "Line1 \n",
      " Line2 \n",
      " Line2\n"
     ]
    }
   ],
   "source": [
    "string=\"Line1 \\n Line2 \\n Line2\"\n",
    "pattern=re.compile(r\".*\",re.DOTALL)\n",
    "ans=re.search(pattern,string)\n",
    "print(ans.group())"
   ]
  },
  {
   "cell_type": "code",
   "execution_count": 75,
   "metadata": {},
   "outputs": [
    {
     "name": "stdout",
     "output_type": "stream",
     "text": [
      "RaNdOm\n"
     ]
    }
   ],
   "source": [
    "string=\"RaNdOm\"\n",
    "pattern=re.compile(r\"Random\",re.IGNORECASE)\n",
    "ans=re.search(pattern,string)\n",
    "print(ans.group())"
   ]
  },
  {
   "cell_type": "code",
   "execution_count": 77,
   "metadata": {},
   "outputs": [
    {
     "name": "stdout",
     "output_type": "stream",
     "text": [
      "Guru Prasad\n",
      "Varun Prasad\n"
     ]
    }
   ],
   "source": [
    "# re.sub(pattern,replace,string)\n",
    "string=\"Guru Prasad\"\n",
    "pattern=re.compile(r\"Guru\")\n",
    "ans=re.sub(pattern,\"Varun\",string)\n",
    "print(string)\n",
    "print(ans)"
   ]
  },
  {
   "cell_type": "code",
   "execution_count": 78,
   "metadata": {},
   "outputs": [
    {
     "name": "stdout",
     "output_type": "stream",
     "text": [
      "w1w2w3\n"
     ]
    }
   ],
   "source": [
    "# Remove all white spaces\n",
    "string=\"w1  w2 w3\"\n",
    "pattern=re.compile(r\"\\s+\")\n",
    "replace=''\n",
    "new_string=re.sub(pattern,replace,string)\n",
    "print(new_string)"
   ]
  },
  {
   "cell_type": "code",
   "execution_count": 84,
   "metadata": {},
   "outputs": [
    {
     "name": "stdout",
     "output_type": "stream",
     "text": [
      "gurujissrr@gmail.com\n"
     ]
    }
   ],
   "source": [
    "# email using VERBOSE\n",
    "string=\"Email gurujissrr@gmail.com\"\n",
    "pattern=re.compile(r'[a-zA-Z]+@([a-zA-Z]+)\\.(com|org|in)',re.VERBOSE )\n",
    "ans=re.search(pattern,string)\n",
    "print(ans.group())\n"
   ]
  },
  {
   "cell_type": "code",
   "execution_count": 86,
   "metadata": {},
   "outputs": [
    {
     "name": "stdout",
     "output_type": "stream",
     "text": [
      "iteration: 0\n",
      "1\n",
      "iteration: 1\n",
      "iteration: 2\n",
      "3\n",
      "iteration: 3\n",
      "iteration: 4\n",
      "5\n",
      "iteration: 5\n",
      "iteration: 6\n",
      "7\n",
      "iteration: 7\n",
      "iteration: 8\n",
      "9\n",
      "iteration: 9\n"
     ]
    }
   ],
   "source": [
    "for i in range(10):\n",
    "    if i%2 == 0:\n",
    "        pass\n",
    "    else:\n",
    "        print(i)\n",
    "    print(\"iteration:\",i)"
   ]
  },
  {
   "cell_type": "code",
   "execution_count": 2,
   "metadata": {},
   "outputs": [],
   "source": [
    "import os \n",
    "\n",
    "var=os.getcwd()\n"
   ]
  }
 ],
 "metadata": {
  "kernelspec": {
   "display_name": "Python 3",
   "language": "python",
   "name": "python3"
  },
  "language_info": {
   "codemirror_mode": {
    "name": "ipython",
    "version": 3
   },
   "file_extension": ".py",
   "mimetype": "text/x-python",
   "name": "python",
   "nbconvert_exporter": "python",
   "pygments_lexer": "ipython3",
   "version": "3.10.5"
  },
  "orig_nbformat": 4
 },
 "nbformat": 4,
 "nbformat_minor": 2
}
