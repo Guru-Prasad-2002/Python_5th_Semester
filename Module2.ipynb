{
 "cells": [
  {
   "attachments": {},
   "cell_type": "markdown",
   "metadata": {},
   "source": [
    "### Lists"
   ]
  },
  {
   "cell_type": "code",
   "execution_count": 4,
   "metadata": {},
   "outputs": [
    {
     "name": "stdout",
     "output_type": "stream",
     "text": [
      "Indexing\n",
      "1\n",
      "5\n",
      "5\n",
      "Slicing\n",
      "[1, 2, 3]\n",
      "[1, 2, 3, 4, 5]\n",
      "[5, 4, 3, 2, 1]\n"
     ]
    }
   ],
   "source": [
    "# Indexing and slicing \n",
    "arr=[1,2,3,4,5]\n",
    "print(\"Indexing\")\n",
    "print(arr[0])\n",
    "print(arr[4])\n",
    "print(arr[-1])\n",
    "print(\"Slicing\")\n",
    "print(arr[0:3])\n",
    "print(arr[-5:])\n",
    "print(arr[::-1])"
   ]
  },
  {
   "cell_type": "code",
   "execution_count": 6,
   "metadata": {},
   "outputs": [
    {
     "name": "stdout",
     "output_type": "stream",
     "text": [
      "[1, 2, 3, 4, 5, 6]\n",
      "['hi', 'hi']\n",
      "['hi', 'hi', 'hi']\n"
     ]
    }
   ],
   "source": [
    "# Cocatenation\n",
    "a=[1,2,3]\n",
    "b=[4,5,6]\n",
    "print(a+b)\n",
    "a=[\"hi\"]\n",
    "print(a+[\"hi\"])\n",
    "# Replicaion\n",
    "print(a*3)\n"
   ]
  },
  {
   "cell_type": "code",
   "execution_count": 7,
   "metadata": {},
   "outputs": [
    {
     "name": "stdout",
     "output_type": "stream",
     "text": [
      "[2, 3, 4, 5]\n"
     ]
    }
   ],
   "source": [
    "# del function \n",
    "a=[1,2,3,4,5]\n",
    "del a[0]\n",
    "print(a)"
   ]
  },
  {
   "cell_type": "code",
   "execution_count": 14,
   "metadata": {},
   "outputs": [
    {
     "name": "stdout",
     "output_type": "stream",
     "text": [
      "[1, 2, 3, 4, 5, 6]\n",
      "[100, 1, 2, 3, 4, 5, 6]\n",
      "[1, 2, 3, 4, 5, 6]\n",
      "[6, 5, 4, 3, 2, 1]\n",
      "None\n",
      "['Doe', 'Jane', 'doe', 'john']\n",
      "None\n",
      "['Doe', 'doe', 'Jane', 'john']\n"
     ]
    }
   ],
   "source": [
    "# Index,Insert,Append,Remove,Sort\n",
    "a=[1,2,3,4,5]\n",
    "a.append(6)\n",
    "print(a)\n",
    "a.insert(0,100)\n",
    "print(a)\n",
    "a.remove(100)\n",
    "print(a)\n",
    "a.sort(reverse=True)\n",
    "print(a)\n",
    "a=[\"john\",\"Doe\",\"Jane\",\"doe\"]\n",
    "print(a.sort())\n",
    "print(a)\n",
    "print(a.sort(key=str.upper,reverse=False))\n",
    "print(a)\n"
   ]
  },
  {
   "attachments": {},
   "cell_type": "markdown",
   "metadata": {},
   "source": [
    "### Tuples\n"
   ]
  },
  {
   "cell_type": "code",
   "execution_count": 2,
   "metadata": {},
   "outputs": [
    {
     "name": "stdout",
     "output_type": "stream",
     "text": [
      "<class 'tuple'>\n",
      "[1, 2, 3, 4, 5]\n",
      "<class 'list'>\n",
      "(1, 2, 3, 4, 5)\n",
      "<class 'tuple'>\n"
     ]
    }
   ],
   "source": [
    "t=(1,2,3,4,5)\n",
    "l=[1,2,3,4,5]\n",
    "print(type(t))\n",
    "a=list(t)\n",
    "print(a)\n",
    "print(type(a))\n",
    "b=tuple(l)\n",
    "print(b)\n",
    "print(type(b))"
   ]
  },
  {
   "cell_type": "code",
   "execution_count": 3,
   "metadata": {},
   "outputs": [
    {
     "name": "stdout",
     "output_type": "stream",
     "text": [
      "['h', 'e', 'l', 'l', 'o']\n",
      "('h', 'e', 'l', 'l', 'o')\n"
     ]
    }
   ],
   "source": [
    "print(list('hello'))\n",
    "print(tuple('hello'))"
   ]
  },
  {
   "cell_type": "code",
   "execution_count": 4,
   "metadata": {},
   "outputs": [
    {
     "name": "stdout",
     "output_type": "stream",
     "text": [
      "10\n",
      "20\n"
     ]
    }
   ],
   "source": [
    "# Reference \n",
    "var1=10\n",
    "var2=var1\n",
    "var2=20\n",
    "print(var1)\n",
    "print(var2)"
   ]
  },
  {
   "cell_type": "code",
   "execution_count": 5,
   "metadata": {},
   "outputs": [
    {
     "name": "stdout",
     "output_type": "stream",
     "text": [
      "[1, 100, 2, 3]\n"
     ]
    }
   ],
   "source": [
    "var1=[1,2,3]\n",
    "var2=var1\n",
    "var2.insert(1,100)\n",
    "print(var1)"
   ]
  },
  {
   "cell_type": "code",
   "execution_count": 6,
   "metadata": {},
   "outputs": [
    {
     "name": "stdout",
     "output_type": "stream",
     "text": [
      "['ha', 'yo', 'appended value']\n"
     ]
    }
   ],
   "source": [
    "def fn(var):\n",
    "    var.append(\"appended value\")\n",
    "\n",
    "x=[\"ha\",\"yo\"]\n",
    "fn(x)\n",
    "print(x)"
   ]
  },
  {
   "cell_type": "code",
   "execution_count": 9,
   "metadata": {},
   "outputs": [
    {
     "name": "stdout",
     "output_type": "stream",
     "text": [
      "[[1, 2, 3, 4, 5], ['Changed', 7, 8, 9, 10]]\n",
      "[[1, 2, 3, 4, 5], ['Changed', 7, 8, 9, 10]]\n",
      "[[1, 2, 3, 4, 5], [6, 7, 8, 9, 10]]\n"
     ]
    }
   ],
   "source": [
    "# Shallow copy and Deepcopy\n",
    "import copy \n",
    "l1=[[1,2,3,4,5],[6,7,8,9,10]]\n",
    "l2=copy.copy(l1)\n",
    "l3=copy.deepcopy(l1)\n",
    "l1[1][0]=\"Changed\"\n",
    "print(l1)\n",
    "print(l2)\n",
    "print(l3)"
   ]
  },
  {
   "attachments": {},
   "cell_type": "markdown",
   "metadata": {},
   "source": [
    "### Strings"
   ]
  },
  {
   "cell_type": "code",
   "execution_count": 10,
   "metadata": {},
   "outputs": [
    {
     "name": "stdout",
     "output_type": "stream",
     "text": [
      "Yo using single quotes '\n"
     ]
    }
   ],
   "source": [
    "# Backslash\n",
    "print('Yo using single quotes \\'')"
   ]
  },
  {
   "cell_type": "code",
   "execution_count": 11,
   "metadata": {},
   "outputs": [
    {
     "name": "stdout",
     "output_type": "stream",
     "text": [
      "hi \\n hi2\n",
      "hi \n",
      " hi2\n"
     ]
    }
   ],
   "source": [
    "# Escape characters\n",
    "\n",
    "print(\"hi \\\\n hi2\")\n",
    "print(\"hi \\n hi2\")"
   ]
  },
  {
   "cell_type": "code",
   "execution_count": 13,
   "metadata": {},
   "outputs": [
    {
     "name": "stdout",
     "output_type": "stream",
     "text": [
      "Hi \\n Hello \\t Sup\n",
      "Hi \\n Hello \\t Sup\n"
     ]
    }
   ],
   "source": [
    "# Raw strings...do not treat backslash as a part of escape sequence\n",
    "\n",
    "print(r\"Hi \\n Hello \\t Sup\")\n",
    "print(R\"Hi \\n Hello \\t Sup\")"
   ]
  },
  {
   "cell_type": "code",
   "execution_count": 14,
   "metadata": {},
   "outputs": [
    {
     "name": "stdout",
     "output_type": "stream",
     "text": [
      "Yo this \n",
      "is multiline strings\n",
      "just writing random stuff to chec \n",
      " its \n",
      "functionality \n"
     ]
    }
   ],
   "source": [
    "# Multiline String...three single quotes\n",
    "\n",
    "print('''Yo this \n",
    "is multiline strings\n",
    "just writing random stuff to chec \\n its \n",
    "functionality ''')"
   ]
  },
  {
   "cell_type": "code",
   "execution_count": 16,
   "metadata": {},
   "outputs": [],
   "source": [
    "# String methods \n",
    "# char(),ord(),len(),str()\n",
    "# .captilize(),lower,upper,islower,isupper,isalpha,isalnum,isdecimal,istitle,isspace\n"
   ]
  },
  {
   "attachments": {},
   "cell_type": "markdown",
   "metadata": {},
   "source": [
    "### Dictionaries"
   ]
  },
  {
   "cell_type": "code",
   "execution_count": 19,
   "metadata": {},
   "outputs": [
    {
     "name": "stdout",
     "output_type": "stream",
     "text": [
      "apple red\n",
      "banana yellow\n",
      "grapes green\n"
     ]
    }
   ],
   "source": [
    "d={\"apple\":\"red\",\"banana\":\"yellow\",\"grapes\":\"green\"}\n",
    "for k,v in d.items():\n",
    "    print(k,v)"
   ]
  },
  {
   "cell_type": "code",
   "execution_count": 20,
   "metadata": {},
   "outputs": [
    {
     "name": "stdout",
     "output_type": "stream",
     "text": [
      "red\n",
      "Not found\n",
      "red\n",
      "{'apple': 'red', 'banana': 'yellow', 'grapes': 'green', 'Apple': 'red'}\n",
      "GREEN\n",
      "{'apple': 'red', 'banana': 'yellow', 'grapes': 'green', 'Apple': 'red', 'Gauva': 'GREEN'}\n"
     ]
    }
   ],
   "source": [
    "# get and setdefault methods\n",
    "d={\"apple\":\"red\",\"banana\":\"yellow\",\"grapes\":\"green\"}\n",
    "print(d.get(\"apple\",\"Not found\"))\n",
    "print(d.get(\"Gauva\",\"Not found\"))\n",
    "print(d.setdefault(\"Apple\",\"red\"))\n",
    "print(d)\n",
    "print(d.setdefault(\"Gauva\",\"GREEN\"))\n",
    "print(d)"
   ]
  },
  {
   "cell_type": "code",
   "execution_count": 21,
   "metadata": {},
   "outputs": [
    {
     "name": "stdout",
     "output_type": "stream",
     "text": [
      "apple , banana , grapes\n",
      "['apple', 'banana', 'grapes']\n"
     ]
    }
   ],
   "source": [
    "# join and split methods\n",
    "l=[\"apple\",\"banana\",\"grapes\"]\n",
    "print(\" , \".join(l))\n",
    "a=\"apple,banana,grapes\"\n",
    "print(a.split(\",\"))"
   ]
  },
  {
   "cell_type": "code",
   "execution_count": 24,
   "metadata": {},
   "outputs": [
    {
     "name": "stdout",
     "output_type": "stream",
     "text": [
      "*****hello\n",
      "hello*****\n",
      "***hello***\n"
     ]
    }
   ],
   "source": [
    "# rjust,ljust,center\n",
    "a=\"hello\"\n",
    "print(a.rjust(10,\"*\"))\n",
    "print(a.ljust(10,\"*\"))\n",
    "print(a.center(11,\"*\"))"
   ]
  },
  {
   "cell_type": "code",
   "execution_count": 26,
   "metadata": {},
   "outputs": [
    {
     "name": "stdout",
     "output_type": "stream",
     "text": [
      "hello\n",
      "hello   \n",
      "   hello\n"
     ]
    }
   ],
   "source": [
    "# strip rstrip lstrip \n",
    "a=\"   hello   \"\n",
    "print(a.strip())\n",
    "a=\"   hello   \"\n",
    "print(a.lstrip())\n",
    "a=\"   hello   \"\n",
    "print(a.rstrip())"
   ]
  }
 ],
 "metadata": {
  "kernelspec": {
   "display_name": "Python 3",
   "language": "python",
   "name": "python3"
  },
  "language_info": {
   "codemirror_mode": {
    "name": "ipython",
    "version": 3
   },
   "file_extension": ".py",
   "mimetype": "text/x-python",
   "name": "python",
   "nbconvert_exporter": "python",
   "pygments_lexer": "ipython3",
   "version": "3.10.5"
  },
  "orig_nbformat": 4
 },
 "nbformat": 4,
 "nbformat_minor": 2
}
